{
 "cells": [
  {
   "cell_type": "markdown",
   "id": "495dbe60",
   "metadata": {},
   "source": [
    "TASK 4 - SENTIMENT ANALYSIS"
   ]
  },
  {
   "cell_type": "markdown",
   "id": "7fec18ca",
   "metadata": {},
   "source": []
  }
 ],
 "metadata": {
  "language_info": {
   "name": "python"
  }
 },
 "nbformat": 4,
 "nbformat_minor": 5
}
